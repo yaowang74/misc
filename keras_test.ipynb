{
 "cells": [
  {
   "cell_type": "code",
   "execution_count": 1,
   "metadata": {},
   "outputs": [
    {
     "name": "stderr",
     "output_type": "stream",
     "text": [
      "Using TensorFlow backend.\n"
     ]
    }
   ],
   "source": [
    "import keras\n",
    "from keras.datasets import mnist\n",
    "from keras.models import Sequential\n",
    "from keras.layers import Dense, Dropout\n",
    "from keras.layers import Flatten,  MaxPooling2D, Conv2D\n",
    "from keras.callbacks import TensorBoard"
   ]
  },
  {
   "cell_type": "code",
   "execution_count": 2,
   "metadata": {},
   "outputs": [],
   "source": [
    "(X_train,y_train), (X_test, y_test) = mnist.load_data()\n",
    "\n",
    "X_train = X_train.reshape(60000,28,28,1).astype('float32')\n",
    "X_test = X_test.reshape(10000,28,28,1).astype('float32')\n",
    "\n",
    "X_train /= 255\n",
    "X_test /= 255\n",
    "\n",
    "n_classes = 10\n",
    "y_train = keras.utils.to_categorical(y_train, n_classes)\n",
    "y_test = keras.utils.to_categorical(y_test, n_classes)"
   ]
  },
  {
   "cell_type": "code",
   "execution_count": 3,
   "metadata": {},
   "outputs": [],
   "source": [
    "model = Sequential()\n",
    "model.add(Conv2D(32, kernel_size=(3,3), activation='relu', input_shape=(28,28,1)) )\n",
    "model.add(Conv2D(64, kernel_size=(3,3), activation='relu'))\n",
    "model.add(MaxPooling2D(pool_size=(2,2)))\n",
    "model.add(Dropout(0.25))\n",
    "model.add(Flatten())          \n",
    "model.add(Dense(128, activation='relu'))\n",
    "model.add(Dropout(0.5))\n",
    "model.add(Dense(n_classes, activation='softmax'))"
   ]
  },
  {
   "cell_type": "code",
   "execution_count": 4,
   "metadata": {},
   "outputs": [],
   "source": [
    "model.compile(loss='categorical_crossentropy', optimizer='adam', metrics=['accuracy'])"
   ]
  },
  {
   "cell_type": "code",
   "execution_count": 5,
   "metadata": {},
   "outputs": [],
   "source": [
    "tensor_board = TensorBoard('./logs/LeNet-MNIST-1')"
   ]
  },
  {
   "cell_type": "code",
   "execution_count": 6,
   "metadata": {},
   "outputs": [
    {
     "name": "stdout",
     "output_type": "stream",
     "text": [
      "Train on 60000 samples, validate on 10000 samples\n",
      "Epoch 1/15\n",
      "60000/60000 [==============================] - 7s 110us/step - loss: 0.2335 - acc: 0.9304 - val_loss: 0.0505 - val_acc: 0.9839\n",
      "Epoch 2/15\n",
      "60000/60000 [==============================] - 6s 95us/step - loss: 0.0816 - acc: 0.9753 - val_loss: 0.0422 - val_acc: 0.9860\n",
      "Epoch 3/15\n",
      "60000/60000 [==============================] - 6s 94us/step - loss: 0.0610 - acc: 0.9816 - val_loss: 0.0337 - val_acc: 0.9883\n",
      "Epoch 4/15\n",
      "60000/60000 [==============================] - 6s 95us/step - loss: 0.0516 - acc: 0.9839 - val_loss: 0.0301 - val_acc: 0.9902\n",
      "Epoch 5/15\n",
      "60000/60000 [==============================] - 6s 94us/step - loss: 0.0429 - acc: 0.9867 - val_loss: 0.0266 - val_acc: 0.9912\n",
      "Epoch 6/15\n",
      "60000/60000 [==============================] - 6s 94us/step - loss: 0.0385 - acc: 0.9881 - val_loss: 0.0259 - val_acc: 0.9911\n",
      "Epoch 7/15\n",
      "60000/60000 [==============================] - 6s 95us/step - loss: 0.0357 - acc: 0.9883 - val_loss: 0.0264 - val_acc: 0.9906\n",
      "Epoch 8/15\n",
      "60000/60000 [==============================] - 6s 92us/step - loss: 0.0295 - acc: 0.9904 - val_loss: 0.0269 - val_acc: 0.9922\n",
      "Epoch 9/15\n",
      "60000/60000 [==============================] - 6s 95us/step - loss: 0.0285 - acc: 0.9907 - val_loss: 0.0255 - val_acc: 0.9919\n",
      "Epoch 10/15\n",
      "60000/60000 [==============================] - 6s 94us/step - loss: 0.0229 - acc: 0.9921 - val_loss: 0.0267 - val_acc: 0.9922\n",
      "Epoch 11/15\n",
      "60000/60000 [==============================] - 6s 92us/step - loss: 0.0216 - acc: 0.9927 - val_loss: 0.0326 - val_acc: 0.9907\n",
      "Epoch 12/15\n",
      "60000/60000 [==============================] - 6s 92us/step - loss: 0.0210 - acc: 0.9934 - val_loss: 0.0274 - val_acc: 0.9922\n",
      "Epoch 13/15\n",
      "60000/60000 [==============================] - 6s 92us/step - loss: 0.0194 - acc: 0.9933 - val_loss: 0.0315 - val_acc: 0.9919\n",
      "Epoch 14/15\n",
      "60000/60000 [==============================] - 6s 92us/step - loss: 0.0199 - acc: 0.9936 - val_loss: 0.0267 - val_acc: 0.9932\n",
      "Epoch 15/15\n",
      "60000/60000 [==============================] - 6s 92us/step - loss: 0.0164 - acc: 0.9943 - val_loss: 0.0321 - val_acc: 0.9915\n"
     ]
    },
    {
     "data": {
      "text/plain": [
       "<keras.callbacks.History at 0x1f63da7cb00>"
      ]
     },
     "execution_count": 6,
     "metadata": {},
     "output_type": "execute_result"
    }
   ],
   "source": [
    "model.fit(X_train, y_train, batch_size=128, epochs=15, verbose=1,\n",
    "          validation_data=(X_test,y_test), callbacks=[tensor_board])"
   ]
  }
 ],
 "metadata": {
  "kernelspec": {
   "display_name": "Python3.6",
   "language": "python",
   "name": "py36"
  },
  "language_info": {
   "codemirror_mode": {
    "name": "ipython",
    "version": 3
   },
   "file_extension": ".py",
   "mimetype": "text/x-python",
   "name": "python",
   "nbconvert_exporter": "python",
   "pygments_lexer": "ipython3",
   "version": "3.6.7"
  }
 },
 "nbformat": 4,
 "nbformat_minor": 2
}
